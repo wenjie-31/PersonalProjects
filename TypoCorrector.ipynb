{
 "cells": [
  {
   "cell_type": "markdown",
   "metadata": {},
   "source": [
    "## Models"
   ]
  },
  {
   "cell_type": "code",
   "execution_count": 1,
   "metadata": {},
   "outputs": [],
   "source": [
    "from dotenv import load_dotenv  \n",
    "import os    \n",
    "from langchain_openai import AzureChatOpenAI,AzureOpenAIEmbeddings\n",
    "\n",
    "# Load the .env file  \n",
    "load_dotenv()  \n",
    "  # Get an environment variable  \n",
    "endpoint = os.getenv('AZURE_OPENAI_ENDPOINT') \n",
    "key = os.getenv('AZURE_OPENAI_API_KEY')\n",
    "api_version = os.getenv('AZURE_OPENAI_API_VERSION')  \n",
    "chat_deployment = os.getenv('AZURE_OPENAI_CHAT_DEPLOYMENT')  \n",
    "embedding_deployment = os.getenv('AZURE_OPENAI_EMBEDDING_DEPLOYMENT')\n",
    "\n",
    "chat_model = AzureChatOpenAI(\n",
    "    azure_deployment=chat_deployment,\n",
    "    openai_api_version=api_version,\n",
    "    temperature=0\n",
    "    )\n",
    "embedding_model=AzureOpenAIEmbeddings(\n",
    "    azure_deployment=embedding_deployment,\n",
    "    openai_api_version=api_version,)"
   ]
  },
  {
   "cell_type": "markdown",
   "metadata": {},
   "source": [
    "# Tools"
   ]
  },
  {
   "cell_type": "code",
   "execution_count": 2,
   "metadata": {},
   "outputs": [
    {
     "name": "stderr",
     "output_type": "stream",
     "text": [
      "USER_AGENT environment variable not set, consider setting it to identify your requests.\n"
     ]
    }
   ],
   "source": [
    "from langchain.tools import BaseTool, StructuredTool, Tool, tool\n",
    "from langchain.agents import AgentType, initialize_agent\n",
    "from pptx import Presentation\n",
    "import glob\n",
    "from langchain_community.document_loaders import PyPDFLoader\n",
    "from langchain_text_splitters import RecursiveCharacterTextSplitter\n",
    "from langchain_chroma import Chroma\n",
    "from langchain_core.output_parsers import StrOutputParser\n",
    "from langchain_core.runnables import RunnablePassthrough\n",
    "from langchain_core.prompts import ChatPromptTemplate\n",
    "from langchain_community.document_loaders import WebBaseLoader\n",
    "import bs4\n",
    "import json\n",
    "\n",
    "def read_ppt_withidx(source_path: str) -> tuple[object, list]:\n",
    "    '''Read a PowerPoint file and return the file and the text content of each slide with index of slide, shape and paragraph.\n",
    "    Args:  source_path: The PowerPoint file path'''\n",
    "    try:\n",
    "        print(1)\n",
    "        pptfile = Presentation(source_path)\n",
    "        slides_text = []\n",
    "        for page_idx in range(len(pptfile.slides)):\n",
    "            slide_text = []\n",
    "            for shape_idx in range(len(pptfile.slides[page_idx].shapes)):\n",
    "                if hasattr(pptfile.slides[page_idx].shapes[shape_idx], \"text\") and pptfile.slides[page_idx].shapes[shape_idx].has_text_frame:\n",
    "                    for idx in range(len(pptfile.slides[page_idx].shapes[shape_idx].text_frame.paragraphs)):\n",
    "                        run_text = pptfile.slides[page_idx].shapes[shape_idx].text_frame.paragraphs[idx].runs\n",
    "                        for run in run_text:\n",
    "                            slide_text.append([page_idx,shape_idx,idx,run.text])\n",
    "            slides_text.append(slide_text)\n",
    "    except:\n",
    "        return 'File not found!'\n",
    "    print(slides_text)\n",
    "    return slides_text\n",
    "\n",
    "def correct_words_withidx(source_path:str,save_path:str,replace_dict:dict)-> str:\n",
    "    '''Update the powerpoint file load before with the correct words, and save it to a new file. \n",
    "    Only when the Input Plan is asked to replace the word and user approved \n",
    "    save_path:The new PowerPoint file path.\n",
    "    replace_dict:The dict of words need to be replaced, key is the word to be replaced, value is a list of the index of the slide, shape and paragraph and the new word.\n",
    "    '''\n",
    "    pptfile = Presentation(source_path)\n",
    "    for search_str, repl_str in replace_dict.items():\n",
    "        if len(repl_str)==1:\n",
    "            repl_str=repl_str[0]\n",
    "        for x in range(len(pptfile.slides)):\n",
    "            for s in range(len(pptfile.slides[x].shapes)):\n",
    "                if hasattr(pptfile.slides[x].shapes[s], \"text\") and pptfile.slides[x].shapes[s].has_text_frame:\n",
    "                    for idx in range(len(pptfile.slides[x].shapes[s].text_frame.paragraphs)):\n",
    "                        run_text = pptfile.slides[x].shapes[s].text_frame.paragraphs[idx].runs\n",
    "                        for run in run_text:\n",
    "                            if(run.text.find(search_str))!=-1 and x==repl_str[0] and s==repl_str[1] and idx==repl_str[2]:\n",
    "                                run.text = run.text.replace(str(search_str), str(repl_str[3]))\n",
    "    pptfile.save(save_path)\n",
    "    return 'Save succeed!'\n",
    "\n",
    "def retriever(query:str) -> list:\n",
    "    '''Load external knowledge base to help understand question and files. \n",
    "    Arg: query: Question to get the definition from the external knowledge base.\"\n",
    "    '''\n",
    "    directory=\"./ExternalKnowledge\"\n",
    "    if os.path.exists(f\"{directory}/chroma.sqlite3\"):  \n",
    "        vectorstore = Chroma(persist_directory=directory, embedding_function=embedding_model)\n",
    "    else:  \n",
    "        print(f\"Index does not exist at {directory}, building\") \n",
    "        # local files\n",
    "        pdf_files = glob.glob(f\"{directory}/*.pdf\")\n",
    "        all_docs = []\n",
    "        for pdf_file in pdf_files:\n",
    "            loader = PyPDFLoader(pdf_file)\n",
    "            all_docs.extend(loader.load())\n",
    "        with open(f\"{directory}/websites.json\", 'r', encoding='utf-8') as file:\n",
    "            contents = json.load(file)\n",
    "        loader = WebBaseLoader(\n",
    "            web_paths=(contents['Weblist']),\n",
    "            requests_kwargs = {'verify':False})\n",
    "        all_docs=all_docs+loader.load()\n",
    "        text_splitter = RecursiveCharacterTextSplitter(chunk_size=1000, chunk_overlap=200)\n",
    "        splits = text_splitter.split_documents(all_docs)\n",
    "        vectorstore = Chroma.from_documents(documents=splits, embedding=embedding_model, persist_directory=directory)\n",
    "    retrieve = vectorstore.as_retriever()\n",
    "    \n",
    "    prompt = ChatPromptTemplate.from_messages(\n",
    "    [(\"system\", '''Use the following pieces of context to answer the question at the end, which is a terminology dictionary tell the abbreviation the meaning of the words.\n",
    "        If you don't know the answer, just say that you don't know, don't try to make up an answer. Use three sentences maximum and keep the answer as concise as possible.{context}'''),\n",
    "    (\"human\", '{question}If there is a list of workds,Which are meaningful and whcih are not?'),])\n",
    "    rag_chain = (\n",
    "        {\"context\": retrieve , \"question\": RunnablePassthrough()}\n",
    "        | prompt\n",
    "        | chat_model\n",
    "        | StrOutputParser()\n",
    "    )\n",
    "    return rag_chain.invoke(query)\n",
    "\n",
    "read_ppt_withidx = StructuredTool.from_function(read_ppt_withidx)\n",
    "correct_words_withidx = StructuredTool.from_function(correct_words_withidx)\n",
    "retriever = StructuredTool.from_function(retriever)"
   ]
  },
  {
   "cell_type": "markdown",
   "metadata": {},
   "source": [
    "# Prompts"
   ]
  },
  {
   "cell_type": "code",
   "execution_count": 3,
   "metadata": {},
   "outputs": [],
   "source": [
    "from langchain import PromptTemplate\n",
    "\n",
    "plan_prompt = PromptTemplate(\n",
    "    input_variables=[\"input\", \"chat_history\"],\n",
    "    template=\"\"\"You are a meticulous and detail-oriented clerk. Prepare a plan for task execution. Let's think step by step.\n",
    "    Tools to use: \n",
    "    - read_ppt_withidx: Read a PowerPoint file and return the file and the text content of each slide with the index of slide, shape, and paragraph\n",
    "    - retriever: Load external knowledge base to help understand questions and files\n",
    "    - correct_words_withidx: Update the PowerPoint file load with the correct spelling before, and save it to a new file.\n",
    "    \n",
    "    Question: {input}\n",
    "    History: {chat_history}\n",
    "    \n",
    "    Always get the list of words that meet user's requirement first before running the retriever.\n",
    "    Create words list that are not meaningful but without spelling mistakes from the oberservation, and use the retriever to check if they are meaningful in the external knowledge. Then remove the meaningful words from the correction list.\n",
    "    If the user asks to correct the words, always ask for the user's confirmation of the corrention list before running correct_words_withidx and use the confirmed ones to correct. Otherwise, do not plan any task to correct words.\n",
    "    The output should look like this:\n",
    "        User Question: {input}\n",
    "        Execution plan: [execution_plan]\n",
    "        Rest of needed information: [rest_of_needed_information]\n",
    "    Only plan the task the user mentioned in the question and do not add extra steps.\n",
    "    \"\"\",\n",
    ")\n",
    "\n",
    "prompt = PromptTemplate(\n",
    "    template=\"\"\"\n",
    "    Plan:{input}\n",
    "    History: {chat_history}\n",
    "    You are an asstistant to solve or answer the user's question by executing given the plan step by step. You have to follow the user's plan based on the previous observation. \n",
    "    \n",
    "    Don't finish the work until all plans are completed and finish the task when the final step is done.\n",
    "    \n",
    "    Use retriever to check the meaning of the words looks meaningless but do not have spelling mistakes and are not the words used wrongly.\n",
    "    \n",
    "    Always finish and output the word list you want to corret to ask user's confirmation and advice.\n",
    "    \n",
    "    When need to call correct_words_withidx, review the user question to find is there any approval or confirmation said you can save file. If yes, say I will start save the corrected file and run the correct_words_withidx with the confirmed list, if not, output the current corrention list, ask user for confirmation and finish.\n",
    "    \n",
    "    Do not show shape and paragraph index in the final output.\n",
    "    IMPORTANT: Mustn't take any action that is not in the plan.\n",
    "    \"\"\",\n",
    "    input_variables=[\"input\", \"chat_history\"],\n",
    "    )\n",
    "# When need to check if the words are meaningful, gether all the words from previous observation, which is meaningless and no spelling mistake, and ask which are meaningful in the list and which are not with retriever tool.For example, the input of retriever should be \"Is DEV, UIS and Caad meaningful?\"."
   ]
  },
  {
   "cell_type": "markdown",
   "metadata": {},
   "source": [
    "# Agent"
   ]
  },
  {
   "cell_type": "code",
   "execution_count": 4,
   "metadata": {},
   "outputs": [
    {
     "name": "stderr",
     "output_type": "stream",
     "text": [
      "C:\\Users\\wenjieyang\\AppData\\Local\\Temp\\ipykernel_3200\\449136048.py:11: LangChainDeprecationWarning: Please see the migration guide at: https://python.langchain.com/docs/versions/migrating_memory/\n",
      "  memory = ConversationBufferWindowMemory(memory_key=\"chat_history\", return_messages=True)\n",
      "C:\\Users\\wenjieyang\\AppData\\Local\\Temp\\ipykernel_3200\\449136048.py:13: LangChainDeprecationWarning: The class `ConversationChain` was deprecated in LangChain 0.2.7 and will be removed in 1.0. Use :meth:`~RunnableWithMessageHistory: https://python.langchain.com/v0.2/api_reference/core/runnables/langchain_core.runnables.history.RunnableWithMessageHistory.html` instead.\n",
      "  plan_chain = ConversationChain(\n",
      "C:\\Users\\wenjieyang\\AppData\\Local\\Temp\\ipykernel_3200\\449136048.py:21: LangChainDeprecationWarning: The function `initialize_agent` was deprecated in LangChain 0.1.0 and will be removed in 1.0. Use :meth:`~Use new agent constructor methods like create_react_agent, create_json_agent, create_structured_chat_agent, etc.` instead.\n",
      "  agent = initialize_agent(\n"
     ]
    }
   ],
   "source": [
    "from langchain.chains import ConversationChain\n",
    "from langchain.chains.conversation.memory import ConversationBufferWindowMemory\n",
    "\n",
    "def run_agent(input_text: str) -> str:\n",
    "    plan_result = plan_chain.run(input_text)\n",
    "    # Agent execution\n",
    "    # print(plan_result)\n",
    "    res = agent(plan_result)\n",
    "    return plan_result,res['output']\n",
    "\n",
    "memory = ConversationBufferWindowMemory(memory_key=\"chat_history\", return_messages=True)\n",
    "# Initialize Plan Chain\n",
    "plan_chain = ConversationChain(\n",
    "    llm=chat_model,\n",
    "    memory=memory,\n",
    "    input_key=\"input\",\n",
    "    prompt=plan_prompt,\n",
    "    output_key=\"output\",\n",
    ")\n",
    "# Initialize Agent\n",
    "agent = initialize_agent(\n",
    "    agent=AgentType.STRUCTURED_CHAT_ZERO_SHOT_REACT_DESCRIPTION,\n",
    "    tools=[read_ppt_withidx,retriever,correct_words_withidx],\n",
    "    llm=chat_model,\n",
    "    verbose=True, # verbose option is for printing logs (only for development)\n",
    "    max_iterations=10,\n",
    "    prompt=prompt,\n",
    "    memory=memory,\n",
    ")\n"
   ]
  },
  {
   "cell_type": "markdown",
   "metadata": {},
   "source": [
    "# Run"
   ]
  },
  {
   "cell_type": "code",
   "execution_count": 5,
   "metadata": {},
   "outputs": [
    {
     "name": "stderr",
     "output_type": "stream",
     "text": [
      "C:\\Users\\wenjieyang\\AppData\\Local\\Temp\\ipykernel_3200\\449136048.py:5: LangChainDeprecationWarning: The method `Chain.run` was deprecated in langchain 0.1.0 and will be removed in 1.0. Use :meth:`~invoke` instead.\n",
      "  plan_result = plan_chain.run(input_text)\n",
      "C:\\Users\\wenjieyang\\AppData\\Local\\Temp\\ipykernel_3200\\449136048.py:8: LangChainDeprecationWarning: The method `Chain.__call__` was deprecated in langchain 0.1.0 and will be removed in 1.0. Use :meth:`~invoke` instead.\n",
      "  res = agent(plan_result)\n"
     ]
    },
    {
     "name": "stdout",
     "output_type": "stream",
     "text": [
      "\n",
      "\n",
      "\u001b[1m> Entering new AgentExecutor chain...\u001b[0m\n",
      "\u001b[32;1m\u001b[1;3mUnderstood. Let's start by reading the PowerPoint file located at './What is AI Agent.pptx' to extract the text content of each slide along with the index of slide, shape, and paragraph.\n",
      "\n",
      "Action:\n",
      "```\n",
      "{\n",
      "  \"action\": \"read_ppt_withidx\",\n",
      "  \"action_input\": {\n",
      "    \"source_path\": \"./What is AI Agent.pptx\"\n",
      "  }\n",
      "}\n",
      "```\u001b[0m1\n",
      "[[[0, 6, 0, 'What is AI Agnt?'], [0, 7, 0, 'Intelligent agents that perceive environment and achieve '], [0, 7, 0, 'goats']], [[1, 4, 0, 'Agenda Items'], [1, 5, 0, 'Concept of AI Agent.'], [1, 5, 1, 'Application of AI Agent.']], [[2, 2, 0, 'Concept of AI Agent']], [[3, 5, 0, 'Definition of AI Agent'], [3, 6, 1, 'An AI agent is an intelligent entity that perceves its environment and takes actions to achieve its goals. AI agents can be designed to interact with other agents and their environment, and they can learn from their experiences.']], [[4, 2, 0, 'Types of AI Agent'], [4, 4, 0, 'Reactive Agents'], [4, 4, 1, 'Reactive agents are the simplest type of AI agents that can only react to their environment. They do not have the ability to learn or reason about their environment. However, they are fast and efficient in their decision-making process.'], [4, 4, 2, 'Deliberative Agents'], [4, 4, 3, 'Deliberative agents are more complex than reactive agents and can reason about their environment and plan their actions. They can learn from their environment and improve their decision-making process over time. However, their decision-making process is slower than reactive agents.'], [4, 4, 4, 'Learning Agents'], [4, 4, 5, 'Learning agents are the most complex type of AI agents that can adapt and improve their behavior over time. They can learn from their environment and interactions, and their decision-making process improves with experience. However, they require a lot of data and time to train, and their decision-making process is slower than reactive and deliberative agents.']], [[5, 2, 0, 'Virtual Assistants'], [5, 3, 1, 'Virtual assistants are AI agents that can understand natural language and perform tasks based on voice comands. They can help users with a variety of tasks, such as scheduling appointments, sending messages, and searching the web.']], [[6, 3, 0, 'Autonomous Driving'], [6, 4, 0, 'AI Agents for Autonomous Driving'], [6, 4, 1, 'Autonomous driving is an application of AI agents that allows vehicles to drive themselves without human intervention. AI agents use a variety of sensors and algorithms to perceive their environment, make decisions, and navigate safely on the road. This technology has the potential to revolutionize the automotive industry and make driving safer and more efficient.'], [6, 4, 2, 'Perception and Decision Making'], [6, 4, 3, 'Self-driving cars use a variety of sensors such as cameras, lidars and radars, and AI algorithms to perceive their environment, make decisions, and navigate safely on the road. These technologies enable vehicles to detect and respond to obstacles, traffic signals, and other vehicles on the road.']], [[7, 5, 0, 'Other Scenarios'], [7, 6, 1, 'Here is an example  to test if the agent can recognize the terminology or the terms in the memory, like '], [7, 6, 1, 'AgWf'], [7, 6, 1, '.'], [7, 6, 2, 'Also, it can recognize the'], [7, 6, 2, ' wrong words with upper case '], [7, 6, 2, 'like MSFTT, which would be ignore by spelling check.']]]\n",
      "\n",
      "Observation: \u001b[36;1m\u001b[1;3m[[[0, 6, 0, 'What is AI Agnt?'], [0, 7, 0, 'Intelligent agents that perceive environment and achieve '], [0, 7, 0, 'goats']], [[1, 4, 0, 'Agenda Items'], [1, 5, 0, 'Concept of AI Agent.'], [1, 5, 1, 'Application of AI Agent.']], [[2, 2, 0, 'Concept of AI Agent']], [[3, 5, 0, 'Definition of AI Agent'], [3, 6, 1, 'An AI agent is an intelligent entity that perceves its environment and takes actions to achieve its goals. AI agents can be designed to interact with other agents and their environment, and they can learn from their experiences.']], [[4, 2, 0, 'Types of AI Agent'], [4, 4, 0, 'Reactive Agents'], [4, 4, 1, 'Reactive agents are the simplest type of AI agents that can only react to their environment. They do not have the ability to learn or reason about their environment. However, they are fast and efficient in their decision-making process.'], [4, 4, 2, 'Deliberative Agents'], [4, 4, 3, 'Deliberative agents are more complex than reactive agents and can reason about their environment and plan their actions. They can learn from their environment and improve their decision-making process over time. However, their decision-making process is slower than reactive agents.'], [4, 4, 4, 'Learning Agents'], [4, 4, 5, 'Learning agents are the most complex type of AI agents that can adapt and improve their behavior over time. They can learn from their environment and interactions, and their decision-making process improves with experience. However, they require a lot of data and time to train, and their decision-making process is slower than reactive and deliberative agents.']], [[5, 2, 0, 'Virtual Assistants'], [5, 3, 1, 'Virtual assistants are AI agents that can understand natural language and perform tasks based on voice comands. They can help users with a variety of tasks, such as scheduling appointments, sending messages, and searching the web.']], [[6, 3, 0, 'Autonomous Driving'], [6, 4, 0, 'AI Agents for Autonomous Driving'], [6, 4, 1, 'Autonomous driving is an application of AI agents that allows vehicles to drive themselves without human intervention. AI agents use a variety of sensors and algorithms to perceive their environment, make decisions, and navigate safely on the road. This technology has the potential to revolutionize the automotive industry and make driving safer and more efficient.'], [6, 4, 2, 'Perception and Decision Making'], [6, 4, 3, 'Self-driving cars use a variety of sensors such as cameras, lidars and radars, and AI algorithms to perceive their environment, make decisions, and navigate safely on the road. These technologies enable vehicles to detect and respond to obstacles, traffic signals, and other vehicles on the road.']], [[7, 5, 0, 'Other Scenarios'], [7, 6, 1, 'Here is an example  to test if the agent can recognize the terminology or the terms in the memory, like '], [7, 6, 1, 'AgWf'], [7, 6, 1, '.'], [7, 6, 2, 'Also, it can recognize the'], [7, 6, 2, ' wrong words with upper case '], [7, 6, 2, 'like MSFTT, which would be ignore by spelling check.']]]\u001b[0m\n",
      "Thought:\u001b[32;1m\u001b[1;3mBased on the extracted text content from the PowerPoint file, I will now identify words with spelling mistakes, similar spelling errors, and words that appear to be meaningless.\n",
      "\n",
      "### Identified Words:\n",
      "1. **Spelling Mistakes:**\n",
      "   - Slide 0, Shape 6, Paragraph 0: \"Agnt\" (should be \"Agent\")\n",
      "   - Slide 3, Shape 6, Paragraph 1: \"perceves\" (should be \"perceives\")\n",
      "   - Slide 5, Shape 3, Paragraph 1: \"comands\" (should be \"commands\")\n",
      "\n",
      "2. **Words with Similar Spelling Errors:**\n",
      "   - Slide 0, Shape 7, Paragraph 0: \"goats\" (context suggests it should be \"goals\")\n",
      "\n",
      "3. **Meaningless Words:**\n",
      "   - Slide 7, Shape 6, Paragraph 1: \"AgWf\"\n",
      "   - Slide 7, Shape 6, Paragraph 2: \"MSFTT\"\n",
      "\n",
      "Next, I will use the `retriever` tool to check if the words identified as meaningless (\"AgWf\" and \"MSFTT\") are actually meaningful in the external knowledge base.\n",
      "\n",
      "Action:\n",
      "```\n",
      "{\n",
      "  \"action\": \"retriever\",\n",
      "  \"action_input\": {\n",
      "    \"query\": \"AgWf\"\n",
      "  }\n",
      "}\n",
      "```\u001b[0m"
     ]
    },
    {
     "name": "stderr",
     "output_type": "stream",
     "text": [
      "⚠️ It looks like you upgraded from a version below 0.6 and could benefit from vacuuming your database. Run chromadb utils vacuum --help for more information.\n"
     ]
    },
    {
     "name": "stdout",
     "output_type": "stream",
     "text": [
      "\n",
      "Observation: \u001b[33;1m\u001b[1;3mBased on the provided context, \"AgWf\" is meaningful. It stands for \"Agile Waterfall,\" which is a work tracking, planning, and reporting methodology used by the Devices SW team.\u001b[0m\n",
      "Thought:\u001b[32;1m\u001b[1;3mNext, I will use the `retriever` tool to check if the word \"MSFTT\" is actually meaningful in the external knowledge base.\n",
      "\n",
      "Action:\n",
      "```\n",
      "{\n",
      "  \"action\": \"retriever\",\n",
      "  \"action_input\": {\n",
      "    \"query\": \"MSFTT\"\n",
      "  }\n",
      "}\n",
      "```\n",
      "\u001b[0m\n",
      "Observation: \u001b[33;1m\u001b[1;3mBased on the provided context, the following abbreviations are meaningful:\n",
      "\n",
      "1. MTI - Manufacturing Test Infrastructure\n",
      "2. MTF - Modulation Transfer Function\n",
      "3. MTEOS - Windows OS image used on the manufacturing line\n",
      "4. MTK - Media Test Kit (Xbox One Controller Related)\n",
      "5. MTK - In the context of RF power and SAR, refers to parts of Asia with different requirements than the U.S. or European Union\n",
      "\n",
      "Any other abbreviations not listed in the context are not meaningful based on the provided information.\u001b[0m\n",
      "Thought:\u001b[32;1m\u001b[1;3mBased on the observations, the word \"MSFTT\" is not identified as meaningful in the external knowledge base. Therefore, it can be considered a meaningless word in the context of the PowerPoint file.\n",
      "\n",
      "### Summary of Identified Words:\n",
      "1. **Spelling Mistakes:**\n",
      "   - Slide 0, Shape 6, Paragraph 0: \"Agnt\" (should be \"Agent\")\n",
      "   - Slide 3, Shape 6, Paragraph 1: \"perceves\" (should be \"perceives\")\n",
      "   - Slide 5, Shape 3, Paragraph 1: \"comands\" (should be \"commands\")\n",
      "\n",
      "2. **Words with Similar Spelling Errors:**\n",
      "   - Slide 0, Shape 7, Paragraph 0: \"goats\" (context suggests it should be \"goals\")\n",
      "\n",
      "3. **Meaningless Words:**\n",
      "   - Slide 7, Shape 6, Paragraph 2: \"MSFTT\"\n",
      "\n",
      "The word \"AgWf\" is meaningful and should not be considered for correction.\n",
      "\n",
      "Action:\n",
      "```\n",
      "{\n",
      "  \"action\": \"Final Answer\",\n",
      "  \"action_input\": \"The PowerPoint file contains the following words with spelling mistakes, similar spelling errors, or meaningless words:\\n\\n1. Spelling Mistakes:\\n   - Slide 0, Shape 6, Paragraph 0: 'Agnt' (should be 'Agent')\\n   - Slide 3, Shape 6, Paragraph 1: 'perceves' (should be 'perceives')\\n   - Slide 5, Shape 3, Paragraph 1: 'comands' (should be 'commands')\\n\\n2. Words with Similar Spelling Errors:\\n   - Slide 0, Shape 7, Paragraph 0: 'goats' (context suggests it should be 'goals')\\n\\n3. Meaningless Words:\\n   - Slide 7, Shape 6, Paragraph 2: 'MSFTT'\\n\\nThe word 'AgWf' is meaningful and should not be considered for correction.\"\n",
      "}\n",
      "```\u001b[0m\n",
      "\n",
      "\u001b[1m> Finished chain.\u001b[0m\n"
     ]
    },
    {
     "data": {
      "text/plain": [
       "\"The PowerPoint file contains the following words with spelling mistakes, similar spelling errors, or meaningless words:\\n\\n1. Spelling Mistakes:\\n   - Slide 0, Shape 6, Paragraph 0: 'Agnt' (should be 'Agent')\\n   - Slide 3, Shape 6, Paragraph 1: 'perceves' (should be 'perceives')\\n   - Slide 5, Shape 3, Paragraph 1: 'comands' (should be 'commands')\\n\\n2. Words with Similar Spelling Errors:\\n   - Slide 0, Shape 7, Paragraph 0: 'goats' (context suggests it should be 'goals')\\n\\n3. Meaningless Words:\\n   - Slide 7, Shape 6, Paragraph 2: 'MSFTT'\\n\\nThe word 'AgWf' is meaningful and should not be considered for correction.\""
      ]
     },
     "execution_count": 5,
     "metadata": {},
     "output_type": "execute_result"
    }
   ],
   "source": [
    "input_str = \"Is there any word with spelling mistake, wrong word with similar speeling or looks like meaningless word in the ppt file with path './What is AI Agent.pptx? \"\n",
    "plan,response=run_agent(input_str)\n",
    "response"
   ]
  },
  {
   "cell_type": "code",
   "execution_count": 6,
   "metadata": {},
   "outputs": [
    {
     "name": "stdout",
     "output_type": "stream",
     "text": [
      "User Question: Is there any word with spelling mistake, wrong word with similar speeling or looks like meaningless word in the ppt file with path './What is AI Agent.pptx? \n",
      "\n",
      "Execution plan:\n",
      "1. Use the `read_ppt_withidx` tool to read the PowerPoint file located at './What is AI Agent.pptx' and extract the text content of each slide along with the index of slide, shape, and paragraph.\n",
      "2. Analyze the extracted text to identify words with spelling mistakes, words with similar spelling that might be incorrect, and words that appear to be meaningless.\n",
      "3. Create a list of words that are not meaningful but without spelling mistakes from the observation.\n",
      "4. Use the `retriever` tool to check if the words identified as meaningless are actually meaningful in the external knowledge base.\n",
      "5. Remove any words from the correction list that are found to be meaningful by the `retriever`.\n",
      "\n",
      "Rest of needed information:\n",
      "- The text content of each slide with the index of slide, shape, and paragraph.\n",
      "- The list of words identified as having spelling mistakes, similar spelling errors, or appearing meaningless.\n",
      "- The list of words that are not meaningful but without spelling mistakes.\n",
      "- The results from the `retriever` tool to determine if any of the meaningless words are actually meaningful.\n",
      "\n",
      "Note: The plan does not include correcting the words, as the user has not asked for corrections to be made.\n"
     ]
    }
   ],
   "source": [
    "print(plan)"
   ]
  },
  {
   "cell_type": "code",
   "execution_count": 7,
   "metadata": {},
   "outputs": [
    {
     "name": "stdout",
     "output_type": "stream",
     "text": [
      "\n",
      "\n",
      "\u001b[1m> Entering new AgentExecutor chain...\u001b[0m\n",
      "\u001b[32;1m\u001b[1;3mAction:\n",
      "```\n",
      "{\n",
      "  \"action\": \"correct_words_withidx\",\n",
      "  \"action_input\": {\n",
      "    \"source_path\": \"./What is AI Agent.pptx\",\n",
      "    \"save_path\": \"./What is AI Agent_correct.pptx\",\n",
      "    \"replace_dict\": {\n",
      "      \"Agnt\": [[0, 6, 0, \"Agent\"]],\n",
      "      \"perceves\": [[3, 6, 1, \"perceives\"]],\n",
      "      \"comands\": [[5, 3, 1, \"commands\"]],\n",
      "      \"goats\": [[0, 7, 0, \"goals\"]],\n",
      "      \"MSFTT\": [[7, 6, 2, \"MSFT\"]]\n",
      "    }\n",
      "  }\n",
      "}\n",
      "```\u001b[0m\n",
      "Observation: \u001b[38;5;200m\u001b[1;3mSave succeed!\u001b[0m\n",
      "Thought:\u001b[32;1m\u001b[1;3mAction:\n",
      "```\n",
      "{\n",
      "  \"action\": \"Final Answer\",\n",
      "  \"action_input\": \"The PowerPoint file has been successfully corrected and saved to './What is AI Agent_correct.pptx'. The following corrections were made: 'Agnt' to 'Agent', 'perceves' to 'perceives', 'comands' to 'commands', 'goats' to 'goals', and 'MSFTT' to 'MSFT'.\"\n",
      "}\n",
      "```\u001b[0m\n",
      "\n",
      "\u001b[1m> Finished chain.\u001b[0m\n"
     ]
    },
    {
     "data": {
      "text/plain": [
       "(\"User Question: Yes, please correct the words with the content and index you found. Besides, change MSFTT to MSFT. The save path is ./What is AI Agent_correct.pptx.\\n\\nExecution plan:\\n1. Use the `correct_words_withidx` tool to update the PowerPoint file with the correct spelling for the identified words and save it to a new file.\\n2. Specifically, correct the following words:\\n   - Slide 0, Shape 6, Paragraph 0: 'Agnt' to 'Agent'\\n   - Slide 3, Shape 6, Paragraph 1: 'perceves' to 'perceives'\\n   - Slide 5, Shape 3, Paragraph 1: 'comands' to 'commands'\\n   - Slide 0, Shape 7, Paragraph 0: 'goats' to 'goals'\\n   - Slide 7, Shape 6, Paragraph 2: 'MSFTT' to 'MSFT'\\n3. Save the corrected PowerPoint file to the specified path: `./What is AI Agent_correct.pptx`.\\n\\nRest of needed information:\\n- The text content of each slide with the index of slide, shape, and paragraph.\\n- The list of words identified as having spelling mistakes, similar spelling errors, or appearing meaningless.\\n- The confirmed list of corrections to be made:\\n  - 'Agnt' to 'Agent'\\n  - 'perceves' to 'perceives'\\n  - 'comands' to 'commands'\\n  - 'goats' to 'goals'\\n  - 'MSFTT' to 'MSFT'\",\n",
       " \"The PowerPoint file has been successfully corrected and saved to './What is AI Agent_correct.pptx'. The following corrections were made: 'Agnt' to 'Agent', 'perceves' to 'perceives', 'comands' to 'commands', 'goats' to 'goals', and 'MSFTT' to 'MSFT'.\")"
      ]
     },
     "execution_count": 7,
     "metadata": {},
     "output_type": "execute_result"
    }
   ],
   "source": [
    "input_str = \"Yes, please correct the words with the content and index you found. \\\n",
    "            Besides,change MSFTT to MSFT. The save path is ./What is AI Agent_correct.pptx.\"\n",
    "run_agent(input_str)\n"
   ]
  },
  {
   "cell_type": "code",
   "execution_count": null,
   "metadata": {},
   "outputs": [],
   "source": []
  },
  {
   "cell_type": "code",
   "execution_count": null,
   "metadata": {},
   "outputs": [],
   "source": []
  }
 ],
 "metadata": {
  "kernelspec": {
   "display_name": "aischool",
   "language": "python",
   "name": "python3"
  },
  "language_info": {
   "codemirror_mode": {
    "name": "ipython",
    "version": 3
   },
   "file_extension": ".py",
   "mimetype": "text/x-python",
   "name": "python",
   "nbconvert_exporter": "python",
   "pygments_lexer": "ipython3",
   "version": "3.10.11"
  }
 },
 "nbformat": 4,
 "nbformat_minor": 2
}
